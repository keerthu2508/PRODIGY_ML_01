git clone https://github.com/keerthu2508/PRODIGY_ML_01
.git
git add .
git commit -m "Add Kaggle notebook"
git push origin master

